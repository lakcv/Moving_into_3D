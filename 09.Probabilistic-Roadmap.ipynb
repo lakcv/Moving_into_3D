{
 "cells": [
  {
   "cell_type": "markdown",
   "id": "d6b0f559",
   "metadata": {},
   "source": [
    "# Probabilistic Roadmap\n",
    "\n",
    "\n",
    "In this notebook you'll expand on previous random sampling exercises by creating a graph from the points and running A*.\n",
    "\n",
    "1. Load the obstacle map data\n",
    "2. Sample nodes (use KDTrees here)\n",
    "3. Connect nodes (use KDTrees here)\n",
    "4. Visualize graph\n",
    "5. Define heuristic\n",
    "6. Define search method\n",
    "7. Execute and visualize\n",
    "\n",
    "We'll load the data for you and provide a template for visualization."
   ]
  },
  {
   "cell_type": "code",
   "execution_count": 1,
   "id": "dc5f92b3",
   "metadata": {},
   "outputs": [
    {
     "name": "stdout",
     "output_type": "stream",
     "text": [
      "Collecting networkx==2.1\n",
      "  Using cached networkx-2.1-py2.py3-none-any.whl\n",
      "Collecting decorator>=4.1.0\n",
      "  Using cached decorator-5.1.1-py3-none-any.whl (9.1 kB)\n",
      "Installing collected packages: decorator, networkx\n",
      "Successfully installed decorator-5.1.1 networkx-2.1\n"
     ]
    },
    {
     "name": "stderr",
     "output_type": "stream",
     "text": [
      "ERROR: pip's dependency resolver does not currently take into account all the packages that are installed. This behaviour is the source of the following dependency conflicts.\n",
      "jupyter-console 6.5.1 requires ipykernel>=6.14, but you have ipykernel 5.5.5 which is incompatible.\n",
      "jupyter-console 6.5.1 requires jupyter-core!=5.0.*,>=4.12, but you have jupyter-core 4.8.1 which is incompatible.\n",
      "jupyter-console 6.5.1 requires traitlets>=5.4, but you have traitlets 4.3.3 which is incompatible.\n"
     ]
    }
   ],
   "source": [
    "# Again, ugly but we need the latest version of networkx!\n",
    "# This sometimes fails for unknown reasons, please just \n",
    "# \"reset and clear output\" from the \"Kernel\" menu above \n",
    "# and try again!\n",
    "import sys\n",
    "!{sys.executable} -m pip install -I networkx==2.1\n",
    "import pkg_resources\n",
    "pkg_resources.require(\"networkx==2.1\")\n",
    "import networkx as nx"
   ]
  },
  {
   "cell_type": "code",
   "execution_count": 22,
   "id": "c5efbe91",
   "metadata": {},
   "outputs": [
    {
     "data": {
      "text/plain": [
       "'2.1'"
      ]
     },
     "execution_count": 22,
     "metadata": {},
     "output_type": "execute_result"
    }
   ],
   "source": [
    "nx.__version__ # should be 2.1"
   ]
  },
  {
   "cell_type": "code",
   "execution_count": 88,
   "id": "e410b057",
   "metadata": {},
   "outputs": [],
   "source": [
    "import numpy as np\n",
    "import matplotlib.pyplot as plt\n",
    "from shapely.geometry import Polygon, Point, LineString\n",
    "from queue import PriorityQueue\n",
    "import numpy.linalg as LA\n",
    "%matplotlib inline"
   ]
  },
  {
   "cell_type": "code",
   "execution_count": 24,
   "id": "7ef352af",
   "metadata": {},
   "outputs": [],
   "source": [
    "plt.rcParams['figure.figsize'] = 14, 14"
   ]
  },
  {
   "cell_type": "markdown",
   "id": "982556e1",
   "metadata": {},
   "source": [
    "## Step 1 - Load Data"
   ]
  },
  {
   "cell_type": "code",
   "execution_count": 25,
   "id": "10eb9ccc",
   "metadata": {},
   "outputs": [
    {
     "name": "stdout",
     "output_type": "stream",
     "text": [
      "[[-310.2389   -439.2315     85.5         5.          5.         85.5     ]\n",
      " [-300.2389   -439.2315     85.5         5.          5.         85.5     ]\n",
      " [-290.2389   -439.2315     85.5         5.          5.         85.5     ]\n",
      " ...\n",
      " [ 257.8061    425.1645      1.75852     1.292725    1.292725    1.944791]\n",
      " [ 293.9967    368.3391      3.557666    1.129456    1.129456    3.667319]\n",
      " [ 281.5162    354.4156      4.999351    1.053772    1.053772    4.950246]]\n"
     ]
    }
   ],
   "source": [
    "# This is the same obstacle data from the previous lesson.\n",
    "filename = 'colliders2.csv'\n",
    "data = np.loadtxt(filename, delimiter=',', dtype='Float64', skiprows=2)\n",
    "print(data)"
   ]
  },
  {
   "cell_type": "markdown",
   "id": "5b59cc0d",
   "metadata": {},
   "source": [
    "#### Create Polygons"
   ]
  },
  {
   "cell_type": "code",
   "execution_count": 26,
   "id": "e9be3a5b",
   "metadata": {},
   "outputs": [],
   "source": [
    "def extract_polygons(data):\n",
    "\n",
    "    polygons = []\n",
    "    for i in range(data.shape[0]):\n",
    "        north, east, alt, d_north, d_east, d_alt = data[i, :]\n",
    "        \n",
    "        \n",
    "        \n",
    "        # TODO: Extract the 4 corners of the obstacle\n",
    "        # \n",
    "        # NOTE: The order of the points matters since\n",
    "        # `shapely` draws the sequentially from point to point.\n",
    "        #\n",
    "        # If the area of the polygon is 0 you've likely got a weird\n",
    "        # order.\n",
    "        corners = [(north + d_north , east - d_east), \n",
    "                   (north + d_north , east + d_east),\n",
    "                   (north - d_north , east + d_east),\n",
    "                   (north - d_north , east - d_east)]\n",
    "        \n",
    "        # TODO: Compute the height of the polygon\n",
    "        height = alt + d_alt\n",
    "\n",
    "        # TODO: Once you've defined corners, define polygons\n",
    "        p = Polygon(corners)\n",
    "        polygons.append((p, height))\n",
    "\n",
    "    return polygons"
   ]
  },
  {
   "cell_type": "code",
   "execution_count": 27,
   "id": "781b5a1d",
   "metadata": {},
   "outputs": [],
   "source": [
    "polygons = extract_polygons(data)"
   ]
  },
  {
   "cell_type": "markdown",
   "id": "80f4a0e1",
   "metadata": {},
   "source": [
    "## Step 2 - Sample Points\n",
    "\n",
    "\n",
    "You may want to limit the z-axis values."
   ]
  },
  {
   "cell_type": "code",
   "execution_count": 42,
   "id": "7c80e8f1",
   "metadata": {},
   "outputs": [
    {
     "name": "stdout",
     "output_type": "stream",
     "text": [
      "X\n",
      "min = -315.2389, max = 604.7611\n",
      "\n",
      "Y\n",
      "min = -444.2315, max = 475.7685\n",
      "\n",
      "Z\n",
      "min = 0, max = 10\n"
     ]
    }
   ],
   "source": [
    "xmin = np.min(data[:, 0] - data[:, 3])\n",
    "xmax = np.max(data[:, 0] + data[:, 3])\n",
    "\n",
    "ymin = np.min(data[:, 1] - data[:, 4])\n",
    "ymax = np.max(data[:, 1] + data[:, 4])\n",
    "\n",
    "zmin = 0\n",
    "# Limit the z axis for the visualization\n",
    "zmax = 10\n",
    "\n",
    "max_poly_xy = 2 * np.max((data[:, 3], data[:, 4]))\n",
    "\n",
    "print(\"X\")\n",
    "print(\"min = {0}, max = {1}\\n\".format(xmin, xmax))\n",
    "\n",
    "print(\"Y\")\n",
    "print(\"min = {0}, max = {1}\\n\".format(ymin, ymax))\n",
    "\n",
    "print(\"Z\")\n",
    "print(\"min = {0}, max = {1}\".format(zmin, zmax))"
   ]
  },
  {
   "cell_type": "code",
   "execution_count": 43,
   "id": "5d16cbf8",
   "metadata": {},
   "outputs": [
    {
     "data": {
      "text/plain": [
       "10.0"
      ]
     },
     "execution_count": 43,
     "metadata": {},
     "output_type": "execute_result"
    }
   ],
   "source": [
    "max_poly_xy"
   ]
  },
  {
   "cell_type": "code",
   "execution_count": 29,
   "id": "28cf285a",
   "metadata": {},
   "outputs": [],
   "source": [
    "# TODO: sample points randomly\n",
    "# then use KDTree to find nearest neighbor polygon\n",
    "# and test for collision"
   ]
  },
  {
   "cell_type": "code",
   "execution_count": 69,
   "id": "fa954ff4",
   "metadata": {},
   "outputs": [],
   "source": [
    "num_samples = 100\n",
    "\n",
    "xvals = np.random.uniform(xmin, xmax, num_samples)\n",
    "yvals = np.random.uniform(ymin, ymax, num_samples)\n",
    "zvals = np.random.uniform(zmin, zmax, num_samples)\n",
    "\n",
    "points = list(zip(xvals, yvals, zvals))"
   ]
  },
  {
   "cell_type": "code",
   "execution_count": 72,
   "id": "14c95de0",
   "metadata": {},
   "outputs": [],
   "source": [
    "from sklearn.neighbors import KDTree\n",
    "centers = np.array([(p[0].centroid.x ,p[0].centroid.y )for p in polygons])\n",
    "tree = KDTree(centers) "
   ]
  },
  {
   "cell_type": "code",
   "execution_count": 73,
   "id": "497e1224",
   "metadata": {},
   "outputs": [],
   "source": [
    "def collides(polygons, tree, point):   \n",
    "    # TODO: Determine whether the point collides\n",
    "    # with any obstacles. \n",
    "    idxs = list(tree.query_radius(np.array([point[0], point[1]]).reshape(1, -1), r=max_poly_xy)[0])\n",
    "    if len(idxs) > 0:\n",
    "        for idx in idxs:\n",
    "            polygon = polygons[int(idx)]\n",
    "            if polygon[0].contains(Point(point)) and point[2] <= polygon[1]:\n",
    "                return True\n",
    "    return False"
   ]
  },
  {
   "cell_type": "code",
   "execution_count": 76,
   "id": "c3bd8236",
   "metadata": {},
   "outputs": [],
   "source": [
    "to_keep = []\n",
    "to_remove = []\n",
    "for point in points:\n",
    "    if not collides(polygons, tree, point):\n",
    "        to_keep.append(point)\n",
    "    else:\n",
    "        to_remove.append(point)"
   ]
  },
  {
   "cell_type": "markdown",
   "id": "f9360b66",
   "metadata": {},
   "source": [
    "## All Points Visualization"
   ]
  },
  {
   "cell_type": "code",
   "execution_count": 70,
   "id": "be925b8e",
   "metadata": {},
   "outputs": [],
   "source": [
    "from grid_v2 import create_grid\n",
    "grid = create_grid(data, zmax, 1)"
   ]
  },
  {
   "cell_type": "code",
   "execution_count": 79,
   "id": "190a5a33",
   "metadata": {},
   "outputs": [
    {
     "name": "stdout",
     "output_type": "stream",
     "text": [
      "(38, 3)\n"
     ]
    },
    {
     "data": {
      "image/png": "[encoded data removed]",
      "text/plain": [
       "<matplotlib.figure.Figure at 0x260da793080>"
      ]
     },
     "metadata": {
      "needs_background": "light"
     },
     "output_type": "display_data"
    }
   ],
   "source": [
    "fig = plt.figure()\n",
    "\n",
    "plt.imshow(grid, cmap='Greys', origin='lower')\n",
    "\n",
    "nmin = np.min(data[:, 0])\n",
    "emin = np.min(data[:, 1])\n",
    "\n",
    "# draw points\n",
    "all_pts = np.array(to_keep)\n",
    "north_vals = all_pts[:,0]\n",
    "east_vals = all_pts[:,1]\n",
    "plt.scatter(east_vals - emin, north_vals - nmin, c='red')\n",
    "\n",
    "# draw points\n",
    "all_pts = np.array(to_remove)\n",
    "print(all_pts.shape)\n",
    "north_vals = all_pts[:,0]\n",
    "east_vals = all_pts[:,1]\n",
    "plt.scatter(east_vals - emin, north_vals - nmin, c='y')\n",
    "\n",
    "plt.ylabel('NORTH')\n",
    "plt.xlabel('EAST')\n",
    "\n",
    "plt.show()"
   ]
  },
  {
   "cell_type": "markdown",
   "id": "096884a4",
   "metadata": {},
   "source": [
    "## Step 3 - Connect Nodes\n",
    "\n",
    "Now we have to connect the nodes. There are many ways they might be done, it's completely up to you. The only restriction being no edge connecting two nodes may pass through an obstacle.\n",
    "\n",
    "NOTE: You can use `LineString()` from the `shapely` library to create a line. Additionally, `shapely` geometry objects have a method `.crosses` which return `True` if the geometries cross paths, for instance your `LineString()` with an obstacle `Polygon()`!"
   ]
  },
  {
   "cell_type": "code",
   "execution_count": 7,
   "id": "4d59b651",
   "metadata": {},
   "outputs": [],
   "source": [
    "# TODO: connect nodes\n",
    "# Suggested method\n",
    "    # 1) cast nodes into a graph called \"g\" using networkx\n",
    "    # 2) write a method \"can_connect()\" that:\n",
    "        # casts two points as a shapely LineString() object\n",
    "        # tests for collision with a shapely Polygon() object\n",
    "        # returns True if connection is possible, False otherwise\n",
    "    # 3) write a method \"create_graph()\" that:\n",
    "        # defines a networkx graph as g = Graph()\n",
    "        # defines a tree = KDTree(nodes)\n",
    "        # test for connectivity between each node and \n",
    "            # k of it's nearest neighbors\n",
    "        # if nodes are connectable, add an edge to graph\n",
    "    # Iterate through all candidate nodes!"
   ]
  },
  {
   "cell_type": "code",
   "execution_count": 84,
   "id": "ce26d3e6",
   "metadata": {},
   "outputs": [],
   "source": [
    "\n",
    "g.add_nodes_from(to_keep)"
   ]
  },
  {
   "cell_type": "code",
   "execution_count": 85,
   "id": "63cc2001",
   "metadata": {},
   "outputs": [
    {
     "data": {
      "text/plain": [
       "<networkx.classes.graph.Graph at 0x260da7c9dd8>"
      ]
     },
     "execution_count": 85,
     "metadata": {},
     "output_type": "execute_result"
    }
   ],
   "source": [
    "g.re"
   ]
  },
  {
   "cell_type": "code",
   "execution_count": 98,
   "id": "5f36f217",
   "metadata": {},
   "outputs": [],
   "source": [
    "g = nx.Graph()\n",
    "for i, p1 in enumerate(to_keep):\n",
    "    if i < len(to_keep) -1 :\n",
    "        w_edges = [((p1[:2]),(p2[:2]), LA.norm(np.array(p2[:2]) - np.array(p1[:2]))) for p2 in to_keep[i+1:]]\n",
    "        g.add_weighted_edges_from(w_edges)\n",
    "        \n",
    "        "
   ]
  },
  {
   "cell_type": "code",
   "execution_count": 109,
   "id": "ebfa89bc",
   "metadata": {},
   "outputs": [
    {
     "ename": "AttributeError",
     "evalue": "'Graph' object has no attribute 'edge'",
     "output_type": "error",
     "traceback": [
      "\u001b[1;31m---------------------------------------------------------------------------\u001b[0m",
      "\u001b[1;31mAttributeError\u001b[0m                            Traceback (most recent call last)",
      "\u001b[1;32m<ipython-input-109-1dbd2837eace>\u001b[0m in \u001b[0;36m<module>\u001b[1;34m\u001b[0m\n\u001b[1;32m----> 1\u001b[1;33m \u001b[0mg\u001b[0m\u001b[1;33m.\u001b[0m\u001b[0medge\u001b[0m\u001b[1;33m[\u001b[0m\u001b[1;36m0\u001b[0m\u001b[1;33m]\u001b[0m\u001b[1;33m\u001b[0m\u001b[0m\n\u001b[0m",
      "\u001b[1;31mAttributeError\u001b[0m: 'Graph' object has no attribute 'edge'"
     ]
    }
   ],
   "source": [
    "g.edge[0]"
   ]
  },
  {
   "cell_type": "code",
   "execution_count": 91,
   "id": "ffda9e25",
   "metadata": {},
   "outputs": [
    {
     "data": {
      "text/plain": [
       "1891"
      ]
     },
     "execution_count": 91,
     "metadata": {},
     "output_type": "execute_result"
    }
   ],
   "source": [
    "def can_connect(edge,Polygons):\n",
    "    LineString(edge)\n",
    "    for P in Polygons:\n",
    "        if "
   ]
  },
  {
   "cell_type": "code",
   "execution_count": null,
   "id": "e3d74edb",
   "metadata": {},
   "outputs": [],
   "source": [
    "w_edges = [(p1,p2, LA.norm(np.array(p2) - np.array(p1))) for p1,p2 in edges]"
   ]
  },
  {
   "cell_type": "markdown",
   "id": "114515a3",
   "metadata": {},
   "source": [
    "## Step 4 - Visualize Graph"
   ]
  },
  {
   "cell_type": "code",
   "execution_count": 11,
   "id": "ad67ca71",
   "metadata": {},
   "outputs": [
    {
     "data": {
      "image/png": "[encoded data removed]",
      "text/plain": [
       "<matplotlib.figure.Figure at 0x260d92f24a8>"
      ]
     },
     "metadata": {
      "needs_background": "light"
     },
     "output_type": "display_data"
    }
   ],
   "source": [
    "# Create a grid map of the world\n",
    "from grid_v2 import create_grid\n",
    "# This will create a grid map at 1 m above ground level\n",
    "grid = create_grid(data, 1, 1)\n",
    "\n",
    "fig = plt.figure()\n",
    "\n",
    "plt.imshow(grid, cmap='Greys', origin='lower')\n",
    "\n",
    "nmin = np.min(data[:, 0])\n",
    "emin = np.min(data[:, 1])\n",
    "\n",
    "# If you have a graph called \"g\" these plots should work\n",
    "# Draw edges\n",
    "#for (n1, n2) in g.edges:\n",
    "#    plt.plot([n1[1] - emin, n2[1] - emin], [n1[0] - nmin, n2[0] - nmin], 'black' , alpha=0.5)\n",
    "\n",
    "# Draw all nodes connected or not in blue\n",
    "#for n1 in nodes:\n",
    "#    plt.scatter(n1[1] - emin, n1[0] - nmin, c='blue')\n",
    "    \n",
    "# Draw connected nodes in red\n",
    "#for n1 in g.nodes:\n",
    "#    plt.scatter(n1[1] - emin, n1[0] - nmin, c='red')\n",
    "    \n",
    "\n",
    "\n",
    "plt.xlabel('NORTH')\n",
    "plt.ylabel('EAST')\n",
    "\n",
    "plt.show()"
   ]
  },
  {
   "cell_type": "markdown",
   "id": "4c1eb485",
   "metadata": {},
   "source": [
    "## Step 5 - Define Heuristic\n"
   ]
  },
  {
   "cell_type": "code",
   "execution_count": 12,
   "id": "89ab7414",
   "metadata": {},
   "outputs": [],
   "source": [
    "def heuristic(n1, n2):\n",
    "    # TODO: complete\n",
    "    return 0"
   ]
  },
  {
   "cell_type": "markdown",
   "id": "6dfad976",
   "metadata": {},
   "source": [
    "## Step 6 - Complete A*"
   ]
  },
  {
   "cell_type": "code",
   "execution_count": 13,
   "id": "2af27f45",
   "metadata": {},
   "outputs": [],
   "source": [
    "def a_star(graph, heuristic, start, goal):\n",
    "    \"\"\"Modified A* to work with NetworkX graphs.\"\"\"\n",
    "    \n",
    "    # TODO: complete\n",
    "    return []"
   ]
  },
  {
   "cell_type": "markdown",
   "id": "a0703435",
   "metadata": {},
   "source": [
    "## Step 7 - Visualize Path\n"
   ]
  },
  {
   "cell_type": "code",
   "execution_count": 14,
   "id": "1e832eb7",
   "metadata": {},
   "outputs": [
    {
     "data": {
      "text/plain": [
       "Text(0,0.5,'EAST')"
      ]
     },
     "execution_count": 14,
     "metadata": {},
     "output_type": "execute_result"
    },
    {
     "data": {
      "image/png": "[encoded data removed]",
      "text/plain": [
       "<matplotlib.figure.Figure at 0x260d937cba8>"
      ]
     },
     "metadata": {
      "needs_background": "light"
     },
     "output_type": "display_data"
    }
   ],
   "source": [
    "fig = plt.figure()\n",
    "\n",
    "plt.imshow(grid, cmap='Greys', origin='lower')\n",
    "\n",
    "# Add code to visualize path here\n",
    "\n",
    "plt.xlabel('NORTH')\n",
    "plt.ylabel('EAST')\n"
   ]
  },
  {
   "cell_type": "code",
   "execution_count": null,
   "id": "982a89f7",
   "metadata": {},
   "outputs": [],
   "source": []
  }
 ],
 "metadata": {
  "kernelspec": {
   "display_name": "Python 3",
   "language": "python",
   "name": "python3"
  },
  "language_info": {
   "codemirror_mode": {
    "name": "ipython",
    "version": 3
   },
   "file_extension": ".py",
   "mimetype": "text/x-python",
   "name": "python",
   "nbconvert_exporter": "python",
   "pygments_lexer": "ipython3",
   "version": "3.6.3"
  }
 },
 "nbformat": 4,
 "nbformat_minor": 5
}
